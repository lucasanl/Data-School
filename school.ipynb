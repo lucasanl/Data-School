{
  "nbformat": 4,
  "nbformat_minor": 0,
  "metadata": {
    "colab": {
      "provenance": [],
      "toc_visible": true,
      "authorship_tag": "ABX9TyNvwaVIrMDMbBwvpuscoFUW",
      "include_colab_link": true
    },
    "kernelspec": {
      "name": "python3",
      "display_name": "Python 3"
    },
    "language_info": {
      "name": "python"
    }
  },
  "cells": [
    {
      "cell_type": "markdown",
      "metadata": {
        "id": "view-in-github",
        "colab_type": "text"
      },
      "source": [
        "<a href=\"https://colab.research.google.com/github/lucasanl/Data-School/blob/main/school.ipynb\" target=\"_parent\"><img src=\"https://colab.research.google.com/assets/colab-badge.svg\" alt=\"Open In Colab\"/></a>"
      ]
    },
    {
      "cell_type": "code",
      "execution_count": 1,
      "metadata": {
        "colab": {
          "base_uri": "https://localhost:8080/",
          "height": 17
        },
        "id": "LYxczSAAVqGR",
        "outputId": "af6910c7-58ea-402f-cbf9-1c722ec72e30"
      },
      "outputs": [
        {
          "output_type": "execute_result",
          "data": {
            "text/plain": [
              "<IPython.core.display.HTML object>"
            ],
            "text/html": [
              "<style>\n",
              "\n",
              ":root{\n",
              "    --header1_color: #204709;\n",
              "    --header2_color: #42841F;\n",
              "    --header3_color: #6EAF4B;\n",
              "    --keyword_color: #cc241d; /* import */\n",
              "    --string_color: #79740e;\n",
              "    --number_color: #b16286;\n",
              "    --def_color: #689d6a; /* class name */\n",
              "    --property_color: #458588; /* python properties */\n",
              "    --builtin_color: #689d6a;\n",
              "    --comment_color: #9f9f9f;\n",
              "    --comment_color_2: #458588; /* equals sign */\n",
              "    --operator_color: #a221f2;\n",
              "    --font_color: #3c3836; /* general font */\n",
              "    --variable2_color: #b16286; /*self keyworda */\n",
              "    --box_color: #fffdee66;\n",
              "}\n",
              "\n",
              "\n",
              "/* h1, .h1 { */\n",
              "/*     font-family: \"Trebuchet MS\", sans-serif; */\n",
              "/*     font-size: 2em !important; */\n",
              "/*     letter-spacing: 1px; */\n",
              "/*     /1* border-bottom: 3px solid #497564; *1/ */\n",
              "/*     /1* text-transform: uppercase; *1/ */\n",
              "/*     color: var(--header1_color); */\n",
              "/*     border-bottom: 3px solid var(--header1_color); */\n",
              "/* } */\n",
              "\n",
              "/* h1.title{ */\n",
              "/*     padding:5px */\n",
              "/* } */\n",
              "\n",
              "/* div.title { */\n",
              "/*     text-align: center; */\n",
              "/*     background-color: #d3e6d23d; */\n",
              "/*     height:3em; */\n",
              "/*     border-radius: 10px; */\n",
              "/*     box-shadow: 3px 3px #536f533d; */\n",
              "/*     margin-bottom: 8px; */\n",
              "/* } */\n",
              "\n",
              "/* h2, .h2 { */\n",
              "/*     font-family: \"Trebuchet MS\"; */\n",
              "/*     font-size: 1.7em !important; */\n",
              "/*     color: var(--header2_color); */\n",
              "/* } */\n",
              "\n",
              "/* h3, .h3 { */\n",
              "/*     font-family: \"Trebuchet MS\"; */\n",
              "/*     font-size: 1.4em !important; */\n",
              "/*     color: var(--header3_color); */\n",
              "/* } */\n",
              "\n",
              "/* .jp-mod-active .jp-Collapser-child{ */\n",
              "/*     background-color: #d79921; */\n",
              "/* } */\n",
              "/* .output { */\n",
              "/*     flex-direction: row; */\n",
              "/* } */\n",
              "\n",
              ".cm-s-jupyter span.cm-variable-2{\n",
              "    color: var(--variable2_color);\n",
              "}\n",
              "\n",
              ".cm-s-jupyter span.cm-variable{\n",
              "    color: var(--font_color);\n",
              "}\n",
              ".cm-s-jupyter span.cm-number{\n",
              "    color: var(--number_color);\n",
              "}\n",
              "\n",
              ".cm-s-jupyter span.cm-def {\n",
              "    color: var(--def_color);\n",
              "}\n",
              "\n",
              ".cm-s-jupyter span.cm-keyword{\n",
              "    color: var(--keyword_color);\n",
              "    font-weight: lighter;\n",
              "}\n",
              "\n",
              ".cm-s-jupyter span.cm-property{\n",
              "    color: var(--property_color);\n",
              "}\n",
              "\n",
              ".cm-s-jupyter span.cm-builtin{\n",
              "    color: var(--builtin_color);\n",
              "}\n",
              "\n",
              ".cm-s-jupyter span.cm-string {\n",
              "    color: var(--string_color);\n",
              "}\n",
              "\n",
              ".cm-s-jupyter span.cm-comment{\n",
              "    color: var(--comment_color);\n",
              "}\n",
              "\n",
              ".cm-s-jupyter span.cm-operator{\n",
              "    color: var(--operator_color);\n",
              "}\n",
              "\n",
              "body[data-jp-theme-light=\"true\"] .jp-Notebook .CodeMirror.cm-s-jupyter{\n",
              "    background-color: var(--box_color) !important;\n",
              "}\n",
              "\n",
              "/* body[data-jp-theme-light=\"true\"] .lm-Widget.p-Widget.jp-CodeMirrorEditor.jp-Editor.jp-InputArea-editor { */\n",
              "/*     border-color: #9b9b99 !important; */\n",
              "/*     border-style: solid none none !important; */\n",
              "/*     border-width: 2px medium medium !important; */\n",
              "/*     border-radius: 0; */\n",
              "/* } */\n",
              "\n",
              "/* /1* --- for rendering submitted notebook --- *1/ */\n",
              "/* div.text_cell_render h1 { */\n",
              "/*     font-family: \"Trebuchet MS\", sans-serif; */\n",
              "/*     font-size: 2em !important; */\n",
              "/*     letter-spacing: 1px; */\n",
              "/*     border-bottom: 3px solid var(--header1_color); */\n",
              "/*     /1* text-transform: uppercase; *1/ */\n",
              "/*     color: var(--header1_color); */\n",
              "/*     padding: 0px; */\n",
              "/*     margin-top: 5px; */\n",
              "/* } */\n",
              "\n",
              "/* div.text_cell_render h2 { */\n",
              "/*     font-family: \"Trebuchet MS\"; */\n",
              "/*     font-size: 1.7em !important; */\n",
              "/*     color: var(--header2_color); */\n",
              "/* } */\n",
              "\n",
              "/* div.text_cell_render h3 { */\n",
              "/*     font-family: \"Trebuchet MS\"; */\n",
              "/*     font-size: 1.4em !important; */\n",
              "/*     color: var(--header3_color); */\n",
              "/* } */\n",
              "\n",
              "/* .highlight .nn{ */\n",
              "/*     color: black; */\n",
              "/* } */\n",
              "\n",
              "/* .n{ */\n",
              "/*     color: black */\n",
              "/* } */\n",
              "\n",
              "/* .o{ */\n",
              "/*     color: black */\n",
              "/* } */\n",
              "\n",
              "/* .p{ */\n",
              "/*     color: black */\n",
              "/* } */\n",
              "\n",
              ".highlight .s1 {\n",
              "    color: var(--string_color);\n",
              "}\n",
              "\n",
              "/* cm-string */\n",
              ".highlight .s2 {\n",
              "    color: var(--string_color);\n",
              "}\n",
              "\n",
              "/* cm-keyword */\n",
              ".highlight .k {\n",
              "    color: var(--keyword_color);\n",
              "    font-weight: lighter;\n",
              "}\n",
              "\n",
              ".highlight .kc{\n",
              "    color: var(--keyword_color);\n",
              "    font-weight: lighter;\n",
              "}\n",
              "\n",
              "/* cm-number */\n",
              ".highlight .mi{\n",
              "    color: var(--number_color);\n",
              "}\n",
              "\n",
              "/* cm-comment */\n",
              ".highlight .c1{\n",
              "    color: var(--comment_color);\n",
              "    font-weight: lighter;\n",
              "}\n",
              "\n",
              ".highlight .mf{\n",
              "    color: var(--number_color);\n",
              "}\n",
              "\n",
              ".highlight .sd{\n",
              "    color: var(--string_color);\n",
              "    font-weight: lighter;\n",
              "}\n",
              "\n",
              "/* cm-keyword */\n",
              ".highlight .ow {\n",
              "    color: var(--keyword_color);\n",
              "    font-weight: lighter;\n",
              "}\n",
              "\n",
              "/* cm-operator */\n",
              ".highlight .o{\n",
              "    color: var(--operator_color);\n",
              "}\n",
              "\n",
              "/* cm-keyword */\n",
              ".highlight .kn{\n",
              "    color: var(--keyword_color);\n",
              "    font-weight: lighter;\n",
              "}\n",
              "\n",
              "/* cm-builtin */\n",
              ".highlight .nb{\n",
              "    color: var(--builtin_color);\n",
              "}\n",
              "\n",
              "/* class keyword */\n",
              ".highlight .nc{\n",
              "    color: var(--def_color);\n",
              "    font-weight: lighter;\n",
              "}\n",
              "\n",
              "/* cm-def */ \n",
              ".highlight .fm{\n",
              "    color: var(--def_color);\n",
              "}\n",
              "\n",
              "/* cm-keyword */\n",
              ".highlight .bp{\n",
              "    color: var(--keyword_color);\n",
              "}\n",
              "\n",
              ".highlight .si {\n",
              "  color: #BB6622;\n",
              "  font-weight: lighter;\n",
              "}\n",
              "\n",
              "/* cm-property */\n",
              "a.global_indexed_symbol{\n",
              "    color: var(--property_color);\n",
              "}\n",
              "\n",
              "/* cm-def */ \n",
              ".highlight .nf{\n",
              "    color: var(--def_color);\n",
              "}\n",
              "\n",
              "/* self */\n",
              ".highlight .bp{\n",
              "    color: var(--variable2_color)\n",
              "}\n",
              "\n",
              "div.output_subarea.output_text{\n",
              "    padding: 16px;\n",
              "    width: 1000px;\n",
              "}\n",
              "\n",
              ".jp-RenderedHTMLCommon :not(pre) > code{\n",
              "    background-color: transparent !important;\n",
              "}\n",
              "\n",
              "/* h1.header { */\n",
              "/*     color: white !important; */\n",
              "/* } */\n",
              "\n",
              ".insights {\n",
              "    line-height: 1.7em;\n",
              "    color: #31708f;\n",
              "    background-color: #d9edf7;\n",
              "    border-color: #bce8f1;\n",
              "    padding: 15px;\n",
              "    margin-bottom: 20px;\n",
              "    border: 1px solid transparent;\n",
              "    border-radius: 4px;\n",
              "    font-family: Verdana,sans-serif;\n",
              "    font-size: 15px;\n",
              "}\n",
              "\n",
              "div.output_subarea {\n",
              "    padding: 0px\n",
              "}\n",
              "\n",
              "div.output_area pre{\n",
              "    margin: 0px\n",
              "}\n",
              "\n",
              "div.output_area pre {\n",
              "    margin: 5px\n",
              "}\n",
              "\n",
              "\n",
              "div.input_area{\n",
              "    background-color: var(--box_color) !important;\n",
              "}\n",
              "\n",
              "</style>\n"
            ]
          },
          "metadata": {},
          "execution_count": 1
        }
      ],
      "source": [
        "!wget http://bit.ly/3ZLyF82 -O CSS.css -q\n",
        "\n",
        "from IPython.core.display import HTML\n",
        "with open('./CSS.css', 'r') as file:\n",
        "    custom_css = file.read()\n",
        "\n",
        "HTML(custom_css)\n"
      ]
    },
    {
      "cell_type": "code",
      "source": [
        "pip install pyspark"
      ],
      "metadata": {
        "colab": {
          "base_uri": "https://localhost:8080/"
        },
        "id": "8eJOSV0RWJAK",
        "outputId": "59e09629-7744-4b4d-a598-5edc1b4fe539"
      },
      "execution_count": 3,
      "outputs": [
        {
          "output_type": "stream",
          "name": "stdout",
          "text": [
            "Collecting pyspark\n",
            "  Downloading pyspark-3.4.1.tar.gz (310.8 MB)\n",
            "\u001b[2K     \u001b[90m━━━━━━━━━━━━━━━━━━━━━━━━━━━━━━━━━━━━━━━\u001b[0m \u001b[32m310.8/310.8 MB\u001b[0m \u001b[31m2.6 MB/s\u001b[0m eta \u001b[36m0:00:00\u001b[0m\n",
            "\u001b[?25h  Preparing metadata (setup.py) ... \u001b[?25l\u001b[?25hdone\n",
            "Requirement already satisfied: py4j==0.10.9.7 in /usr/local/lib/python3.10/dist-packages (from pyspark) (0.10.9.7)\n",
            "Building wheels for collected packages: pyspark\n",
            "  Building wheel for pyspark (setup.py) ... \u001b[?25l\u001b[?25hdone\n",
            "  Created wheel for pyspark: filename=pyspark-3.4.1-py2.py3-none-any.whl size=311285398 sha256=a08757e948da4a9c8ebeb33c64da19e687e6a52b2c4c01069cc44e18920dc51a\n",
            "  Stored in directory: /root/.cache/pip/wheels/0d/77/a3/ff2f74cc9ab41f8f594dabf0579c2a7c6de920d584206e0834\n",
            "Successfully built pyspark\n",
            "Installing collected packages: pyspark\n",
            "Successfully installed pyspark-3.4.1\n"
          ]
        }
      ]
    },
    {
      "cell_type": "code",
      "source": [
        "# Import necessary libraries\n",
        "\n",
        "import warnings\n",
        "from pyspark.sql import SparkSession\n",
        "from pyspark.sql.functions import sum\n",
        "import sys\n",
        "import pyspark.sql.functions as F\n",
        "import pyspark.sql.types as T\n",
        "import pandas as pd\n",
        "import plotly.express as px\n",
        "import plotly.subplots as sp\n",
        "import plotly.graph_objects as go\n",
        "import numpy as np\n",
        "warnings.simplefilter(action='ignore', category=FutureWarning)"
      ],
      "metadata": {
        "id": "xM3p7vWhV02Y"
      },
      "execution_count": 26,
      "outputs": []
    },
    {
      "cell_type": "code",
      "source": [
        "spark = SparkSession.builder.appName(\"SCHOOL-DATA\").getOrCreate()"
      ],
      "metadata": {
        "id": "m-Bvs7V5WmJZ"
      },
      "execution_count": 5,
      "outputs": []
    },
    {
      "cell_type": "code",
      "source": [
        "# Load the dataset\n",
        "df = spark.read.csv(\"schoolinfo.csv\", header=True, inferSchema=True)\n",
        "# Print the memory usage of the dataframe\n",
        "memory_in_bytes = df.rdd.flatMap(lambda x: x).map(lambda x: sys.getsizeof(x)).sum()\n",
        "print(f\"Memory usage: {memory_in_bytes/1024**2:.2f} MB\")"
      ],
      "metadata": {
        "colab": {
          "base_uri": "https://localhost:8080/"
        },
        "id": "9eqdSorjXKUF",
        "outputId": "86370184-e174-4cd4-99c1-19f3a5e991b3"
      },
      "execution_count": 6,
      "outputs": [
        {
          "output_type": "stream",
          "name": "stdout",
          "text": [
            "Memory usage: 0.01 MB\n"
          ]
        }
      ]
    },
    {
      "cell_type": "code",
      "source": [
        "# Checking the number of rows and columns in the dataset\n",
        "print(f\"Number of rows: {df.count()}\")\n",
        "print(f\"Number of columns: {len(df.columns)}\")"
      ],
      "metadata": {
        "colab": {
          "base_uri": "https://localhost:8080/"
        },
        "id": "0Gk71TlGXaHO",
        "outputId": "6322cc5d-7230-479b-f565-a4c6eccee060"
      },
      "execution_count": 8,
      "outputs": [
        {
          "output_type": "stream",
          "name": "stdout",
          "text": [
            "Number of rows: 48\n",
            "Number of columns: 8\n"
          ]
        }
      ]
    },
    {
      "cell_type": "code",
      "source": [
        "# Displaying a few sample rows to understand the structure of the data\n",
        "df.show(20)"
      ],
      "metadata": {
        "colab": {
          "base_uri": "https://localhost:8080/"
        },
        "id": "EPZI6f1EXthM",
        "outputId": "70975de3-ee2c-494b-ecd6-4933bfa5b7b7"
      },
      "execution_count": 9,
      "outputs": [
        {
          "output_type": "stream",
          "name": "stdout",
          "text": [
            "+-----------+------+----+-----+----------+-----------+----+-----+\n",
            "|     Region|Status|CTSA| GOVT|GOVT AIDED|INDEPENDENT| JNV|   KV|\n",
            "+-----------+------+----+-----+----------+-----------+----+-----+\n",
            "|      Ajmer| Regd.|   0| 8537|         0|     102253|4945| 9194|\n",
            "|      Ajmer| Appd.|   0| 8509|         0|     101822|4928| 9160|\n",
            "|      Ajmer|  Pass|   0| 8154|         0|     100178|4911| 8875|\n",
            "|  Bengaluru| Regd.|  99|  151|         0|      60667|2442| 5108|\n",
            "|  Bengaluru| Appd.|  97|  151|         0|      60555|2440| 5093|\n",
            "|  Bengaluru|  Pass|  94|  151|         0|      60089|2440| 5042|\n",
            "|     Bhopal| Regd.|   0| 5802|         0|      84877|4171| 9126|\n",
            "|     Bhopal| Appd.|   0| 5681|         0|      84390|4160| 9094|\n",
            "|     Bhopal|  Pass|   0| 4837|         0|      79048|4152| 8406|\n",
            "|Bhubaneswar| Regd.| 102|17252|         0|      81012|5295|13489|\n",
            "|Bhubaneswar| Appd.| 101|17036|         0|      80621|5277|13441|\n",
            "|Bhubaneswar|  Pass|  96|15828|         0|      78070|5272|13136|\n",
            "| Chandigarh| Regd.|  68|14941|       217|     112557|2884| 7016|\n",
            "| Chandigarh| Appd.|  67|14868|       217|     112317|2874| 6989|\n",
            "| Chandigarh|  Pass|  49|11280|       202|     109732|2871| 6860|\n",
            "|     Chen0i| Regd.|   0| 4935|         0|     129650|2316|11463|\n",
            "|     Chen0i| Appd.|   0| 4867|         0|     129342|2313|11439|\n",
            "|     Chen0i|  Pass|   0| 4023|         0|     128808|2313|11301|\n",
            "|   Dehradun| Regd.| 151| 2131|       240|      76961|1536| 4535|\n",
            "|   Dehradun| Appd.| 150| 2111|       240|      76588|1534| 4525|\n",
            "+-----------+------+----+-----+----------+-----------+----+-----+\n",
            "only showing top 20 rows\n",
            "\n"
          ]
        }
      ]
    },
    {
      "cell_type": "code",
      "source": [
        "# Print the column names and their data types\n",
        "df.printSchema()"
      ],
      "metadata": {
        "colab": {
          "base_uri": "https://localhost:8080/"
        },
        "id": "D4TxuNzVX7u4",
        "outputId": "251df94a-fd5d-4dae-a410-e8edc0b1225f"
      },
      "execution_count": 10,
      "outputs": [
        {
          "output_type": "stream",
          "name": "stdout",
          "text": [
            "root\n",
            " |-- Region: string (nullable = true)\n",
            " |-- Status: string (nullable = true)\n",
            " |-- CTSA: integer (nullable = true)\n",
            " |-- GOVT: integer (nullable = true)\n",
            " |-- GOVT AIDED: integer (nullable = true)\n",
            " |-- INDEPENDENT: integer (nullable = true)\n",
            " |-- JNV: integer (nullable = true)\n",
            " |-- KV: integer (nullable = true)\n",
            "\n"
          ]
        }
      ]
    },
    {
      "cell_type": "code",
      "source": [
        "# Checking for missing values\n",
        "from pyspark.sql.functions import isnan, when, count, col\n",
        "df.select([count(when(isnan(c) | col(c).isNull(), c)).alias(c) for c in df.columns]).show()"
      ],
      "metadata": {
        "colab": {
          "base_uri": "https://localhost:8080/"
        },
        "id": "U1plws95aAKP",
        "outputId": "4fc875db-ab51-4fb0-b2fe-ce7978757b1e"
      },
      "execution_count": 11,
      "outputs": [
        {
          "output_type": "stream",
          "name": "stdout",
          "text": [
            "+------+------+----+----+----------+-----------+---+---+\n",
            "|Region|Status|CTSA|GOVT|GOVT AIDED|INDEPENDENT|JNV| KV|\n",
            "+------+------+----+----+----------+-----------+---+---+\n",
            "|     0|     0|   0|   0|         0|          0|  0|  0|\n",
            "+------+------+----+----+----------+-----------+---+---+\n",
            "\n"
          ]
        }
      ]
    },
    {
      "cell_type": "code",
      "source": [
        "# Identifying the data types of the columns\n",
        "df.dtypes"
      ],
      "metadata": {
        "colab": {
          "base_uri": "https://localhost:8080/"
        },
        "id": "aPsiMWlXaMiM",
        "outputId": "48fdde2a-3ae8-40db-fddc-72880d7177df"
      },
      "execution_count": 12,
      "outputs": [
        {
          "output_type": "execute_result",
          "data": {
            "text/plain": [
              "[('Region', 'string'),\n",
              " ('Status', 'string'),\n",
              " ('CTSA', 'int'),\n",
              " ('GOVT', 'int'),\n",
              " ('GOVT AIDED', 'int'),\n",
              " ('INDEPENDENT', 'int'),\n",
              " ('JNV', 'int'),\n",
              " ('KV', 'int')]"
            ]
          },
          "metadata": {},
          "execution_count": 12
        }
      ]
    },
    {
      "cell_type": "code",
      "source": [
        "# Describing the statistical summary of the dataset\n",
        "df.describe().show()"
      ],
      "metadata": {
        "colab": {
          "base_uri": "https://localhost:8080/"
        },
        "id": "trZRYxKTaP0A",
        "outputId": "7abaf652-920f-4bb6-a4bf-49cfaf372bb8"
      },
      "execution_count": 13,
      "outputs": [
        {
          "output_type": "stream",
          "name": "stdout",
          "text": [
            "+-------+----------+------+-----------------+------------------+-----------------+------------------+------------------+------------------+\n",
            "|summary|    Region|Status|             CTSA|              GOVT|       GOVT AIDED|       INDEPENDENT|               JNV|                KV|\n",
            "+-------+----------+------+-----------------+------------------+-----------------+------------------+------------------+------------------+\n",
            "|  count|        48|    48|               48|                48|               48|                48|                48|                48|\n",
            "|   mean|      null|  null|          30.6875|         17316.625|         1116.875|100303.52083333333|2846.9791666666665|         7064.5625|\n",
            "| stddev|      null|  null|48.81278008882509|32523.847106081826|2651.901827593075| 48554.51492734062| 1717.175544497582|2761.9159469720103|\n",
            "|    min|     Ajmer| Appd.|                0|               151|                0|             27151|                78|              2873|\n",
            "|    max|Trivandrum| Regd.|              151|            124319|             9527|            222805|              5592|             13489|\n",
            "+-------+----------+------+-----------------+------------------+-----------------+------------------+------------------+------------------+\n",
            "\n"
          ]
        }
      ]
    },
    {
      "cell_type": "markdown",
      "source": [
        "#Data wrangling#\n",
        "\n",
        "\n"
      ],
      "metadata": {
        "id": "HgC4BBgRa2c6"
      }
    },
    {
      "cell_type": "code",
      "source": [
        "!pip install outlyzer -q\n"
      ],
      "metadata": {
        "id": "QU2ISCIJa762"
      },
      "execution_count": 14,
      "outputs": []
    },
    {
      "cell_type": "code",
      "source": [
        "from Outlyzer.zscore import detect_outliers_zscore\n",
        "from Outlyzer.iqr import detect_outliers_iqr"
      ],
      "metadata": {
        "id": "-7LGEKrRbdsK"
      },
      "execution_count": 15,
      "outputs": []
    },
    {
      "cell_type": "code",
      "source": [
        "# convert spark dataframe into pandas dataframe\n",
        "pandas_df = df.toPandas()\n",
        "type(pandas_df)"
      ],
      "metadata": {
        "colab": {
          "base_uri": "https://localhost:8080/"
        },
        "id": "Mlhilqj7bkhi",
        "outputId": "5a7a273f-7dd8-4edc-8026-5090124ff915"
      },
      "execution_count": 16,
      "outputs": [
        {
          "output_type": "execute_result",
          "data": {
            "text/plain": [
              "pandas.core.frame.DataFrame"
            ]
          },
          "metadata": {},
          "execution_count": 16
        }
      ]
    },
    {
      "cell_type": "code",
      "source": [
        "outliers_zscore = detect_outliers_zscore(pandas_df)\n",
        "\n",
        "#this will show only ture rows\n",
        "outliers_df = outliers_zscore[outliers_zscore.any(axis=1)]\n",
        "print(outliers_df)"
      ],
      "metadata": {
        "colab": {
          "base_uri": "https://localhost:8080/"
        },
        "id": "G48zHTTSbosR",
        "outputId": "44501d81-c3d7-4499-db95-a28a1e7490b3"
      },
      "execution_count": 27,
      "outputs": [
        {
          "output_type": "stream",
          "name": "stdout",
          "text": [
            "     CTSA   GOVT  GOVT AIDED  INDEPENDENT    JNV     KV  Region  Status\n",
            "21  False   True       False        False  False  False   False   False\n",
            "22  False   True       False        False  False  False   False   False\n",
            "24  False  False        True        False  False  False   False   False\n",
            "25  False  False        True        False  False  False   False   False\n"
          ]
        }
      ]
    },
    {
      "cell_type": "code",
      "source": [
        "# Identify columns with non-numeric data\n",
        "non_numeric_columns = pandas_df.select_dtypes(exclude=[np.number]).columns\n",
        "\n",
        "# Exclude non-numeric columns from the DataFrame\n",
        "numeric_df = pandas_df.drop(non_numeric_columns, axis=1)\n",
        "# Apply the outlier detection function to the modified DataFrame\n",
        "outliers_iqr = detect_outliers_iqr(numeric_df)\n",
        "\n",
        "# Print the DataFrame with outliers True with there values\n",
        "outliers_df = pandas_df[outliers_iqr]\n",
        "print(outliers_df)"
      ],
      "metadata": {
        "colab": {
          "base_uri": "https://localhost:8080/"
        },
        "id": "1S6_ViGbbzR_",
        "outputId": "6a70394b-cbc3-4287-9a34-a4b6285cb2e0"
      },
      "execution_count": 28,
      "outputs": [
        {
          "output_type": "stream",
          "name": "stdout",
          "text": [
            "   Region Status  CTSA      GOVT  GOVT AIDED  INDEPENDENT  JNV  KV\n",
            "0     NaN    NaN   NaN       NaN         NaN       102253  NaN NaN\n",
            "1     NaN    NaN   NaN       NaN         NaN       101822  NaN NaN\n",
            "2     NaN    NaN   NaN       NaN         NaN       100178  NaN NaN\n",
            "3     NaN    NaN   NaN       NaN         NaN        60667  NaN NaN\n",
            "4     NaN    NaN   NaN       NaN         NaN        60555  NaN NaN\n",
            "5     NaN    NaN   NaN       NaN         NaN        60089  NaN NaN\n",
            "6     NaN    NaN   NaN       NaN         NaN        84877  NaN NaN\n",
            "7     NaN    NaN   NaN       NaN         NaN        84390  NaN NaN\n",
            "8     NaN    NaN   NaN       NaN         NaN        79048  NaN NaN\n",
            "9     NaN    NaN   NaN       NaN         NaN        81012  NaN NaN\n",
            "10    NaN    NaN   NaN       NaN         NaN        80621  NaN NaN\n",
            "11    NaN    NaN   NaN       NaN         NaN        78070  NaN NaN\n",
            "12    NaN    NaN   NaN       NaN         NaN       112557  NaN NaN\n",
            "13    NaN    NaN   NaN       NaN         NaN       112317  NaN NaN\n",
            "14    NaN    NaN   NaN       NaN         NaN       109732  NaN NaN\n",
            "15    NaN    NaN   NaN       NaN         NaN       129650  NaN NaN\n",
            "16    NaN    NaN   NaN       NaN         NaN       129342  NaN NaN\n",
            "17    NaN    NaN   NaN       NaN         NaN       128808  NaN NaN\n",
            "18    NaN    NaN   NaN       NaN         NaN        76961  NaN NaN\n",
            "19    NaN    NaN   NaN       NaN         NaN        76588  NaN NaN\n",
            "20    NaN    NaN   NaN       NaN         NaN        71206  NaN NaN\n",
            "21    NaN    NaN   NaN  124319.0         NaN        78927  NaN NaN\n",
            "22    NaN    NaN   NaN  123021.0         NaN        78645  NaN NaN\n",
            "23    NaN    NaN   NaN   98859.0         NaN        76635  NaN NaN\n",
            "24    NaN    NaN   NaN   87771.0         NaN        47235  NaN NaN\n",
            "25    NaN    NaN   NaN   86757.0         NaN        46955  NaN NaN\n",
            "26    NaN    NaN   NaN   71817.0         NaN        44256  NaN NaN\n",
            "27    NaN    NaN   NaN   25746.0         NaN        28645  NaN NaN\n",
            "28    NaN    NaN   NaN   25309.0         NaN        28326  NaN NaN\n",
            "29    NaN    NaN   NaN       NaN         NaN        27151  NaN NaN\n",
            "30    NaN    NaN   NaN       NaN         NaN       132092  NaN NaN\n",
            "31    NaN    NaN   NaN       NaN         NaN       130784  NaN NaN\n",
            "32    NaN    NaN   NaN       NaN         NaN       125724  NaN NaN\n",
            "33    NaN    NaN   NaN       NaN         NaN       154210  NaN NaN\n",
            "34    NaN    NaN   NaN       NaN         NaN       153618  NaN NaN\n",
            "35    NaN    NaN   NaN       NaN         NaN       147937  NaN NaN\n",
            "36    NaN    NaN   NaN       NaN         NaN       222805  NaN NaN\n",
            "37    NaN    NaN   NaN       NaN         NaN       219583  NaN NaN\n",
            "38    NaN    NaN   NaN       NaN         NaN       214586  NaN NaN\n",
            "39    NaN    NaN   NaN       NaN         NaN       173769  NaN NaN\n",
            "40    NaN    NaN   NaN       NaN         NaN       171869  NaN NaN\n",
            "41    NaN    NaN   NaN       NaN         NaN       163244  NaN NaN\n",
            "42    NaN    NaN   NaN       NaN         NaN        81413  NaN NaN\n",
            "43    NaN    NaN   NaN       NaN         NaN        81112  NaN NaN\n",
            "44    NaN    NaN   NaN       NaN         NaN        79288  NaN NaN\n",
            "45    NaN    NaN   NaN       NaN         NaN        61764  NaN NaN\n",
            "46    NaN    NaN   NaN       NaN         NaN        61705  NaN NaN\n",
            "47    NaN    NaN   NaN       NaN         NaN        61548  NaN NaN\n"
          ]
        }
      ]
    },
    {
      "cell_type": "code",
      "source": [
        "pandas_df.head()"
      ],
      "metadata": {
        "colab": {
          "base_uri": "https://localhost:8080/",
          "height": 206
        },
        "id": "RX144OeSe5FV",
        "outputId": "1e66bb2d-f5b7-4789-f9d3-77d2be925794"
      },
      "execution_count": 55,
      "outputs": [
        {
          "output_type": "execute_result",
          "data": {
            "text/plain": [
              "      Region Status  CTSA  GOVT  GOVT AIDED  INDEPENDENT   JNV    KV\n",
              "0      Ajmer  Regd.     0  8537           0       102253  4945  9194\n",
              "1      Ajmer  Appd.     0  8509           0       101822  4928  9160\n",
              "2      Ajmer   Pass     0  8154           0       100178  4911  8875\n",
              "3  Bengaluru  Regd.    99   151           0        60667  2442  5108\n",
              "4  Bengaluru  Appd.    97   151           0        60555  2440  5093"
            ],
            "text/html": [
              "\n",
              "\n",
              "  <div id=\"df-bc0b5f0d-26c7-4fb4-9c71-b4af636e63b1\">\n",
              "    <div class=\"colab-df-container\">\n",
              "      <div>\n",
              "<style scoped>\n",
              "    .dataframe tbody tr th:only-of-type {\n",
              "        vertical-align: middle;\n",
              "    }\n",
              "\n",
              "    .dataframe tbody tr th {\n",
              "        vertical-align: top;\n",
              "    }\n",
              "\n",
              "    .dataframe thead th {\n",
              "        text-align: right;\n",
              "    }\n",
              "</style>\n",
              "<table border=\"1\" class=\"dataframe\">\n",
              "  <thead>\n",
              "    <tr style=\"text-align: right;\">\n",
              "      <th></th>\n",
              "      <th>Region</th>\n",
              "      <th>Status</th>\n",
              "      <th>CTSA</th>\n",
              "      <th>GOVT</th>\n",
              "      <th>GOVT AIDED</th>\n",
              "      <th>INDEPENDENT</th>\n",
              "      <th>JNV</th>\n",
              "      <th>KV</th>\n",
              "    </tr>\n",
              "  </thead>\n",
              "  <tbody>\n",
              "    <tr>\n",
              "      <th>0</th>\n",
              "      <td>Ajmer</td>\n",
              "      <td>Regd.</td>\n",
              "      <td>0</td>\n",
              "      <td>8537</td>\n",
              "      <td>0</td>\n",
              "      <td>102253</td>\n",
              "      <td>4945</td>\n",
              "      <td>9194</td>\n",
              "    </tr>\n",
              "    <tr>\n",
              "      <th>1</th>\n",
              "      <td>Ajmer</td>\n",
              "      <td>Appd.</td>\n",
              "      <td>0</td>\n",
              "      <td>8509</td>\n",
              "      <td>0</td>\n",
              "      <td>101822</td>\n",
              "      <td>4928</td>\n",
              "      <td>9160</td>\n",
              "    </tr>\n",
              "    <tr>\n",
              "      <th>2</th>\n",
              "      <td>Ajmer</td>\n",
              "      <td>Pass</td>\n",
              "      <td>0</td>\n",
              "      <td>8154</td>\n",
              "      <td>0</td>\n",
              "      <td>100178</td>\n",
              "      <td>4911</td>\n",
              "      <td>8875</td>\n",
              "    </tr>\n",
              "    <tr>\n",
              "      <th>3</th>\n",
              "      <td>Bengaluru</td>\n",
              "      <td>Regd.</td>\n",
              "      <td>99</td>\n",
              "      <td>151</td>\n",
              "      <td>0</td>\n",
              "      <td>60667</td>\n",
              "      <td>2442</td>\n",
              "      <td>5108</td>\n",
              "    </tr>\n",
              "    <tr>\n",
              "      <th>4</th>\n",
              "      <td>Bengaluru</td>\n",
              "      <td>Appd.</td>\n",
              "      <td>97</td>\n",
              "      <td>151</td>\n",
              "      <td>0</td>\n",
              "      <td>60555</td>\n",
              "      <td>2440</td>\n",
              "      <td>5093</td>\n",
              "    </tr>\n",
              "  </tbody>\n",
              "</table>\n",
              "</div>\n",
              "      <button class=\"colab-df-convert\" onclick=\"convertToInteractive('df-bc0b5f0d-26c7-4fb4-9c71-b4af636e63b1')\"\n",
              "              title=\"Convert this dataframe to an interactive table.\"\n",
              "              style=\"display:none;\">\n",
              "\n",
              "  <svg xmlns=\"http://www.w3.org/2000/svg\" height=\"24px\"viewBox=\"0 0 24 24\"\n",
              "       width=\"24px\">\n",
              "    <path d=\"M0 0h24v24H0V0z\" fill=\"none\"/>\n",
              "    <path d=\"M18.56 5.44l.94 2.06.94-2.06 2.06-.94-2.06-.94-.94-2.06-.94 2.06-2.06.94zm-11 1L8.5 8.5l.94-2.06 2.06-.94-2.06-.94L8.5 2.5l-.94 2.06-2.06.94zm10 10l.94 2.06.94-2.06 2.06-.94-2.06-.94-.94-2.06-.94 2.06-2.06.94z\"/><path d=\"M17.41 7.96l-1.37-1.37c-.4-.4-.92-.59-1.43-.59-.52 0-1.04.2-1.43.59L10.3 9.45l-7.72 7.72c-.78.78-.78 2.05 0 2.83L4 21.41c.39.39.9.59 1.41.59.51 0 1.02-.2 1.41-.59l7.78-7.78 2.81-2.81c.8-.78.8-2.07 0-2.86zM5.41 20L4 18.59l7.72-7.72 1.47 1.35L5.41 20z\"/>\n",
              "  </svg>\n",
              "      </button>\n",
              "\n",
              "\n",
              "\n",
              "    <div id=\"df-836a8dae-e29c-4ef6-97fe-98a12f0051ad\">\n",
              "      <button class=\"colab-df-quickchart\" onclick=\"quickchart('df-836a8dae-e29c-4ef6-97fe-98a12f0051ad')\"\n",
              "              title=\"Suggest charts.\"\n",
              "              style=\"display:none;\">\n",
              "\n",
              "<svg xmlns=\"http://www.w3.org/2000/svg\" height=\"24px\"viewBox=\"0 0 24 24\"\n",
              "     width=\"24px\">\n",
              "    <g>\n",
              "        <path d=\"M19 3H5c-1.1 0-2 .9-2 2v14c0 1.1.9 2 2 2h14c1.1 0 2-.9 2-2V5c0-1.1-.9-2-2-2zM9 17H7v-7h2v7zm4 0h-2V7h2v10zm4 0h-2v-4h2v4z\"/>\n",
              "    </g>\n",
              "</svg>\n",
              "      </button>\n",
              "    </div>\n",
              "\n",
              "<style>\n",
              "  .colab-df-quickchart {\n",
              "    background-color: #E8F0FE;\n",
              "    border: none;\n",
              "    border-radius: 50%;\n",
              "    cursor: pointer;\n",
              "    display: none;\n",
              "    fill: #1967D2;\n",
              "    height: 32px;\n",
              "    padding: 0 0 0 0;\n",
              "    width: 32px;\n",
              "  }\n",
              "\n",
              "  .colab-df-quickchart:hover {\n",
              "    background-color: #E2EBFA;\n",
              "    box-shadow: 0px 1px 2px rgba(60, 64, 67, 0.3), 0px 1px 3px 1px rgba(60, 64, 67, 0.15);\n",
              "    fill: #174EA6;\n",
              "  }\n",
              "\n",
              "  [theme=dark] .colab-df-quickchart {\n",
              "    background-color: #3B4455;\n",
              "    fill: #D2E3FC;\n",
              "  }\n",
              "\n",
              "  [theme=dark] .colab-df-quickchart:hover {\n",
              "    background-color: #434B5C;\n",
              "    box-shadow: 0px 1px 3px 1px rgba(0, 0, 0, 0.15);\n",
              "    filter: drop-shadow(0px 1px 2px rgba(0, 0, 0, 0.3));\n",
              "    fill: #FFFFFF;\n",
              "  }\n",
              "</style>\n",
              "\n",
              "    <script>\n",
              "      async function quickchart(key) {\n",
              "        const containerElement = document.querySelector('#' + key);\n",
              "        const charts = await google.colab.kernel.invokeFunction(\n",
              "            'suggestCharts', [key], {});\n",
              "      }\n",
              "    </script>\n",
              "\n",
              "      <script>\n",
              "\n",
              "function displayQuickchartButton(domScope) {\n",
              "  let quickchartButtonEl =\n",
              "    domScope.querySelector('#df-836a8dae-e29c-4ef6-97fe-98a12f0051ad button.colab-df-quickchart');\n",
              "  quickchartButtonEl.style.display =\n",
              "    google.colab.kernel.accessAllowed ? 'block' : 'none';\n",
              "}\n",
              "\n",
              "        displayQuickchartButton(document);\n",
              "      </script>\n",
              "      <style>\n",
              "    .colab-df-container {\n",
              "      display:flex;\n",
              "      flex-wrap:wrap;\n",
              "      gap: 12px;\n",
              "    }\n",
              "\n",
              "    .colab-df-convert {\n",
              "      background-color: #E8F0FE;\n",
              "      border: none;\n",
              "      border-radius: 50%;\n",
              "      cursor: pointer;\n",
              "      display: none;\n",
              "      fill: #1967D2;\n",
              "      height: 32px;\n",
              "      padding: 0 0 0 0;\n",
              "      width: 32px;\n",
              "    }\n",
              "\n",
              "    .colab-df-convert:hover {\n",
              "      background-color: #E2EBFA;\n",
              "      box-shadow: 0px 1px 2px rgba(60, 64, 67, 0.3), 0px 1px 3px 1px rgba(60, 64, 67, 0.15);\n",
              "      fill: #174EA6;\n",
              "    }\n",
              "\n",
              "    [theme=dark] .colab-df-convert {\n",
              "      background-color: #3B4455;\n",
              "      fill: #D2E3FC;\n",
              "    }\n",
              "\n",
              "    [theme=dark] .colab-df-convert:hover {\n",
              "      background-color: #434B5C;\n",
              "      box-shadow: 0px 1px 3px 1px rgba(0, 0, 0, 0.15);\n",
              "      filter: drop-shadow(0px 1px 2px rgba(0, 0, 0, 0.3));\n",
              "      fill: #FFFFFF;\n",
              "    }\n",
              "  </style>\n",
              "\n",
              "      <script>\n",
              "        const buttonEl =\n",
              "          document.querySelector('#df-bc0b5f0d-26c7-4fb4-9c71-b4af636e63b1 button.colab-df-convert');\n",
              "        buttonEl.style.display =\n",
              "          google.colab.kernel.accessAllowed ? 'block' : 'none';\n",
              "\n",
              "        async function convertToInteractive(key) {\n",
              "          const element = document.querySelector('#df-bc0b5f0d-26c7-4fb4-9c71-b4af636e63b1');\n",
              "          const dataTable =\n",
              "            await google.colab.kernel.invokeFunction('convertToInteractive',\n",
              "                                                     [key], {});\n",
              "          if (!dataTable) return;\n",
              "\n",
              "          const docLinkHtml = 'Like what you see? Visit the ' +\n",
              "            '<a target=\"_blank\" href=https://colab.research.google.com/notebooks/data_table.ipynb>data table notebook</a>'\n",
              "            + ' to learn more about interactive tables.';\n",
              "          element.innerHTML = '';\n",
              "          dataTable['output_type'] = 'display_data';\n",
              "          await google.colab.output.renderOutput(dataTable, element);\n",
              "          const docLink = document.createElement('div');\n",
              "          docLink.innerHTML = docLinkHtml;\n",
              "          element.appendChild(docLink);\n",
              "        }\n",
              "      </script>\n",
              "    </div>\n",
              "  </div>\n"
            ]
          },
          "metadata": {},
          "execution_count": 55
        }
      ]
    },
    {
      "cell_type": "code",
      "source": [
        "# Create the bar chart\n",
        "fig = px.bar(pandas_df, x='Region', y='INDEPENDENT', color='Status',\n",
        "             title='Number of Independent Schools by Region',\n",
        "             labels={'INDEPENDENT': 'Number of Independent Schools', 'Region': 'Region', 'Status': 'Status'})\n",
        "\n",
        "# Add hover data labels\n",
        "fig.update_traces(hovertemplate='Region: %{x}<br>Status: %{customdata[0]}<br>Number of Independent Schools: %{y:,}')\n",
        "\n",
        "# Customize layout\n",
        "fig.update_layout(\n",
        "    xaxis=dict(title='Region'),\n",
        "    yaxis=dict(title='Number of Independent Schools'),\n",
        "    legend_title='Status',\n",
        "    plot_bgcolor='rgba(0, 0, 0, 0)',  # Set plot background color to transparent\n",
        "    hoverlabel=dict(bgcolor='white', font_size=15),\n",
        "    hovermode='x'  # Display hover information along the x-axis\n",
        ")\n",
        "\n",
        "# Show the chart\n",
        "fig.show()"
      ],
      "metadata": {
        "colab": {
          "base_uri": "https://localhost:8080/",
          "height": 542
        },
        "id": "73S_wKVyfRkg",
        "outputId": "c29001db-4c6b-405c-a619-ab07e01035fb"
      },
      "execution_count": 54,
      "outputs": [
        {
          "output_type": "display_data",
          "data": {
            "text/html": [
              "<html>\n",
              "<head><meta charset=\"utf-8\" /></head>\n",
              "<body>\n",
              "    <div>            <script src=\"https://cdnjs.cloudflare.com/ajax/libs/mathjax/2.7.5/MathJax.js?config=TeX-AMS-MML_SVG\"></script><script type=\"text/javascript\">if (window.MathJax && window.MathJax.Hub && window.MathJax.Hub.Config) {window.MathJax.Hub.Config({SVG: {font: \"STIX-Web\"}});}</script>                <script type=\"text/javascript\">window.PlotlyConfig = {MathJaxConfig: 'local'};</script>\n",
              "        <script src=\"https://cdn.plot.ly/plotly-2.18.2.min.js\"></script>                <div id=\"034d114f-563d-4552-865f-dba4676335cb\" class=\"plotly-graph-div\" style=\"height:525px; width:100%;\"></div>            <script type=\"text/javascript\">                                    window.PLOTLYENV=window.PLOTLYENV || {};                                    if (document.getElementById(\"034d114f-563d-4552-865f-dba4676335cb\")) {                    Plotly.newPlot(                        \"034d114f-563d-4552-865f-dba4676335cb\",                        [{\"alignmentgroup\":\"True\",\"hovertemplate\":\"Region: %{x}<br>Status: %{customdata[0]}<br>Number of Independent Schools: %{y:,}\",\"legendgroup\":\"Regd.\",\"marker\":{\"color\":\"#636efa\",\"pattern\":{\"shape\":\"\"}},\"name\":\"Regd.\",\"offsetgroup\":\"Regd.\",\"orientation\":\"v\",\"showlegend\":true,\"textposition\":\"auto\",\"x\":[\"Ajmer\",\"Bengaluru\",\"Bhopal\",\"Bhubaneswar\",\"Chandigarh\",\"Chen0i\",\"Dehradun\",\"Delhi East\",\"Delhi West\",\"Guwahati\",\"Noida\",\"Panchkula\",\"Pat0\",\"Prayagraj\",\"Pune\",\"Trivandrum\"],\"xaxis\":\"x\",\"y\":[102253,60667,84877,81012,112557,129650,76961,78927,47235,28645,132092,154210,222805,173769,81413,61764],\"yaxis\":\"y\",\"type\":\"bar\"},{\"alignmentgroup\":\"True\",\"hovertemplate\":\"Region: %{x}<br>Status: %{customdata[0]}<br>Number of Independent Schools: %{y:,}\",\"legendgroup\":\"Appd.\",\"marker\":{\"color\":\"#EF553B\",\"pattern\":{\"shape\":\"\"}},\"name\":\"Appd.\",\"offsetgroup\":\"Appd.\",\"orientation\":\"v\",\"showlegend\":true,\"textposition\":\"auto\",\"x\":[\"Ajmer\",\"Bengaluru\",\"Bhopal\",\"Bhubaneswar\",\"Chandigarh\",\"Chen0i\",\"Dehradun\",\"Delhi East\",\"Delhi West\",\"Guwahati\",\"Noida\",\"Panchkula\",\"Pat0\",\"Prayagraj\",\"Pune\",\"Trivandrum\"],\"xaxis\":\"x\",\"y\":[101822,60555,84390,80621,112317,129342,76588,78645,46955,28326,130784,153618,219583,171869,81112,61705],\"yaxis\":\"y\",\"type\":\"bar\"},{\"alignmentgroup\":\"True\",\"hovertemplate\":\"Region: %{x}<br>Status: %{customdata[0]}<br>Number of Independent Schools: %{y:,}\",\"legendgroup\":\"Pass\",\"marker\":{\"color\":\"#00cc96\",\"pattern\":{\"shape\":\"\"}},\"name\":\"Pass\",\"offsetgroup\":\"Pass\",\"orientation\":\"v\",\"showlegend\":true,\"textposition\":\"auto\",\"x\":[\"Ajmer\",\"Bengaluru\",\"Bhopal\",\"Bhubaneswar\",\"Chandigarh\",\"Chen0i\",\"Dehradun\",\"Delhi East\",\"Delhi West\",\"Guwahati\",\"Noida\",\"Panchkula\",\"Pat0\",\"Prayagraj\",\"Pune\",\"Trivandrum\"],\"xaxis\":\"x\",\"y\":[100178,60089,79048,78070,109732,128808,71206,76635,44256,27151,125724,147937,214586,163244,79288,61548],\"yaxis\":\"y\",\"type\":\"bar\"}],                        {\"template\":{\"data\":{\"histogram2dcontour\":[{\"type\":\"histogram2dcontour\",\"colorbar\":{\"outlinewidth\":0,\"ticks\":\"\"},\"colorscale\":[[0.0,\"#0d0887\"],[0.1111111111111111,\"#46039f\"],[0.2222222222222222,\"#7201a8\"],[0.3333333333333333,\"#9c179e\"],[0.4444444444444444,\"#bd3786\"],[0.5555555555555556,\"#d8576b\"],[0.6666666666666666,\"#ed7953\"],[0.7777777777777778,\"#fb9f3a\"],[0.8888888888888888,\"#fdca26\"],[1.0,\"#f0f921\"]]}],\"choropleth\":[{\"type\":\"choropleth\",\"colorbar\":{\"outlinewidth\":0,\"ticks\":\"\"}}],\"histogram2d\":[{\"type\":\"histogram2d\",\"colorbar\":{\"outlinewidth\":0,\"ticks\":\"\"},\"colorscale\":[[0.0,\"#0d0887\"],[0.1111111111111111,\"#46039f\"],[0.2222222222222222,\"#7201a8\"],[0.3333333333333333,\"#9c179e\"],[0.4444444444444444,\"#bd3786\"],[0.5555555555555556,\"#d8576b\"],[0.6666666666666666,\"#ed7953\"],[0.7777777777777778,\"#fb9f3a\"],[0.8888888888888888,\"#fdca26\"],[1.0,\"#f0f921\"]]}],\"heatmap\":[{\"type\":\"heatmap\",\"colorbar\":{\"outlinewidth\":0,\"ticks\":\"\"},\"colorscale\":[[0.0,\"#0d0887\"],[0.1111111111111111,\"#46039f\"],[0.2222222222222222,\"#7201a8\"],[0.3333333333333333,\"#9c179e\"],[0.4444444444444444,\"#bd3786\"],[0.5555555555555556,\"#d8576b\"],[0.6666666666666666,\"#ed7953\"],[0.7777777777777778,\"#fb9f3a\"],[0.8888888888888888,\"#fdca26\"],[1.0,\"#f0f921\"]]}],\"heatmapgl\":[{\"type\":\"heatmapgl\",\"colorbar\":{\"outlinewidth\":0,\"ticks\":\"\"},\"colorscale\":[[0.0,\"#0d0887\"],[0.1111111111111111,\"#46039f\"],[0.2222222222222222,\"#7201a8\"],[0.3333333333333333,\"#9c179e\"],[0.4444444444444444,\"#bd3786\"],[0.5555555555555556,\"#d8576b\"],[0.6666666666666666,\"#ed7953\"],[0.7777777777777778,\"#fb9f3a\"],[0.8888888888888888,\"#fdca26\"],[1.0,\"#f0f921\"]]}],\"contourcarpet\":[{\"type\":\"contourcarpet\",\"colorbar\":{\"outlinewidth\":0,\"ticks\":\"\"}}],\"contour\":[{\"type\":\"contour\",\"colorbar\":{\"outlinewidth\":0,\"ticks\":\"\"},\"colorscale\":[[0.0,\"#0d0887\"],[0.1111111111111111,\"#46039f\"],[0.2222222222222222,\"#7201a8\"],[0.3333333333333333,\"#9c179e\"],[0.4444444444444444,\"#bd3786\"],[0.5555555555555556,\"#d8576b\"],[0.6666666666666666,\"#ed7953\"],[0.7777777777777778,\"#fb9f3a\"],[0.8888888888888888,\"#fdca26\"],[1.0,\"#f0f921\"]]}],\"surface\":[{\"type\":\"surface\",\"colorbar\":{\"outlinewidth\":0,\"ticks\":\"\"},\"colorscale\":[[0.0,\"#0d0887\"],[0.1111111111111111,\"#46039f\"],[0.2222222222222222,\"#7201a8\"],[0.3333333333333333,\"#9c179e\"],[0.4444444444444444,\"#bd3786\"],[0.5555555555555556,\"#d8576b\"],[0.6666666666666666,\"#ed7953\"],[0.7777777777777778,\"#fb9f3a\"],[0.8888888888888888,\"#fdca26\"],[1.0,\"#f0f921\"]]}],\"mesh3d\":[{\"type\":\"mesh3d\",\"colorbar\":{\"outlinewidth\":0,\"ticks\":\"\"}}],\"scatter\":[{\"fillpattern\":{\"fillmode\":\"overlay\",\"size\":10,\"solidity\":0.2},\"type\":\"scatter\"}],\"parcoords\":[{\"type\":\"parcoords\",\"line\":{\"colorbar\":{\"outlinewidth\":0,\"ticks\":\"\"}}}],\"scatterpolargl\":[{\"type\":\"scatterpolargl\",\"marker\":{\"colorbar\":{\"outlinewidth\":0,\"ticks\":\"\"}}}],\"bar\":[{\"error_x\":{\"color\":\"#2a3f5f\"},\"error_y\":{\"color\":\"#2a3f5f\"},\"marker\":{\"line\":{\"color\":\"#E5ECF6\",\"width\":0.5},\"pattern\":{\"fillmode\":\"overlay\",\"size\":10,\"solidity\":0.2}},\"type\":\"bar\"}],\"scattergeo\":[{\"type\":\"scattergeo\",\"marker\":{\"colorbar\":{\"outlinewidth\":0,\"ticks\":\"\"}}}],\"scatterpolar\":[{\"type\":\"scatterpolar\",\"marker\":{\"colorbar\":{\"outlinewidth\":0,\"ticks\":\"\"}}}],\"histogram\":[{\"marker\":{\"pattern\":{\"fillmode\":\"overlay\",\"size\":10,\"solidity\":0.2}},\"type\":\"histogram\"}],\"scattergl\":[{\"type\":\"scattergl\",\"marker\":{\"colorbar\":{\"outlinewidth\":0,\"ticks\":\"\"}}}],\"scatter3d\":[{\"type\":\"scatter3d\",\"line\":{\"colorbar\":{\"outlinewidth\":0,\"ticks\":\"\"}},\"marker\":{\"colorbar\":{\"outlinewidth\":0,\"ticks\":\"\"}}}],\"scattermapbox\":[{\"type\":\"scattermapbox\",\"marker\":{\"colorbar\":{\"outlinewidth\":0,\"ticks\":\"\"}}}],\"scatterternary\":[{\"type\":\"scatterternary\",\"marker\":{\"colorbar\":{\"outlinewidth\":0,\"ticks\":\"\"}}}],\"scattercarpet\":[{\"type\":\"scattercarpet\",\"marker\":{\"colorbar\":{\"outlinewidth\":0,\"ticks\":\"\"}}}],\"carpet\":[{\"aaxis\":{\"endlinecolor\":\"#2a3f5f\",\"gridcolor\":\"white\",\"linecolor\":\"white\",\"minorgridcolor\":\"white\",\"startlinecolor\":\"#2a3f5f\"},\"baxis\":{\"endlinecolor\":\"#2a3f5f\",\"gridcolor\":\"white\",\"linecolor\":\"white\",\"minorgridcolor\":\"white\",\"startlinecolor\":\"#2a3f5f\"},\"type\":\"carpet\"}],\"table\":[{\"cells\":{\"fill\":{\"color\":\"#EBF0F8\"},\"line\":{\"color\":\"white\"}},\"header\":{\"fill\":{\"color\":\"#C8D4E3\"},\"line\":{\"color\":\"white\"}},\"type\":\"table\"}],\"barpolar\":[{\"marker\":{\"line\":{\"color\":\"#E5ECF6\",\"width\":0.5},\"pattern\":{\"fillmode\":\"overlay\",\"size\":10,\"solidity\":0.2}},\"type\":\"barpolar\"}],\"pie\":[{\"automargin\":true,\"type\":\"pie\"}]},\"layout\":{\"autotypenumbers\":\"strict\",\"colorway\":[\"#636efa\",\"#EF553B\",\"#00cc96\",\"#ab63fa\",\"#FFA15A\",\"#19d3f3\",\"#FF6692\",\"#B6E880\",\"#FF97FF\",\"#FECB52\"],\"font\":{\"color\":\"#2a3f5f\"},\"hovermode\":\"closest\",\"hoverlabel\":{\"align\":\"left\"},\"paper_bgcolor\":\"white\",\"plot_bgcolor\":\"#E5ECF6\",\"polar\":{\"bgcolor\":\"#E5ECF6\",\"angularaxis\":{\"gridcolor\":\"white\",\"linecolor\":\"white\",\"ticks\":\"\"},\"radialaxis\":{\"gridcolor\":\"white\",\"linecolor\":\"white\",\"ticks\":\"\"}},\"ternary\":{\"bgcolor\":\"#E5ECF6\",\"aaxis\":{\"gridcolor\":\"white\",\"linecolor\":\"white\",\"ticks\":\"\"},\"baxis\":{\"gridcolor\":\"white\",\"linecolor\":\"white\",\"ticks\":\"\"},\"caxis\":{\"gridcolor\":\"white\",\"linecolor\":\"white\",\"ticks\":\"\"}},\"coloraxis\":{\"colorbar\":{\"outlinewidth\":0,\"ticks\":\"\"}},\"colorscale\":{\"sequential\":[[0.0,\"#0d0887\"],[0.1111111111111111,\"#46039f\"],[0.2222222222222222,\"#7201a8\"],[0.3333333333333333,\"#9c179e\"],[0.4444444444444444,\"#bd3786\"],[0.5555555555555556,\"#d8576b\"],[0.6666666666666666,\"#ed7953\"],[0.7777777777777778,\"#fb9f3a\"],[0.8888888888888888,\"#fdca26\"],[1.0,\"#f0f921\"]],\"sequentialminus\":[[0.0,\"#0d0887\"],[0.1111111111111111,\"#46039f\"],[0.2222222222222222,\"#7201a8\"],[0.3333333333333333,\"#9c179e\"],[0.4444444444444444,\"#bd3786\"],[0.5555555555555556,\"#d8576b\"],[0.6666666666666666,\"#ed7953\"],[0.7777777777777778,\"#fb9f3a\"],[0.8888888888888888,\"#fdca26\"],[1.0,\"#f0f921\"]],\"diverging\":[[0,\"#8e0152\"],[0.1,\"#c51b7d\"],[0.2,\"#de77ae\"],[0.3,\"#f1b6da\"],[0.4,\"#fde0ef\"],[0.5,\"#f7f7f7\"],[0.6,\"#e6f5d0\"],[0.7,\"#b8e186\"],[0.8,\"#7fbc41\"],[0.9,\"#4d9221\"],[1,\"#276419\"]]},\"xaxis\":{\"gridcolor\":\"white\",\"linecolor\":\"white\",\"ticks\":\"\",\"title\":{\"standoff\":15},\"zerolinecolor\":\"white\",\"automargin\":true,\"zerolinewidth\":2},\"yaxis\":{\"gridcolor\":\"white\",\"linecolor\":\"white\",\"ticks\":\"\",\"title\":{\"standoff\":15},\"zerolinecolor\":\"white\",\"automargin\":true,\"zerolinewidth\":2},\"scene\":{\"xaxis\":{\"backgroundcolor\":\"#E5ECF6\",\"gridcolor\":\"white\",\"linecolor\":\"white\",\"showbackground\":true,\"ticks\":\"\",\"zerolinecolor\":\"white\",\"gridwidth\":2},\"yaxis\":{\"backgroundcolor\":\"#E5ECF6\",\"gridcolor\":\"white\",\"linecolor\":\"white\",\"showbackground\":true,\"ticks\":\"\",\"zerolinecolor\":\"white\",\"gridwidth\":2},\"zaxis\":{\"backgroundcolor\":\"#E5ECF6\",\"gridcolor\":\"white\",\"linecolor\":\"white\",\"showbackground\":true,\"ticks\":\"\",\"zerolinecolor\":\"white\",\"gridwidth\":2}},\"shapedefaults\":{\"line\":{\"color\":\"#2a3f5f\"}},\"annotationdefaults\":{\"arrowcolor\":\"#2a3f5f\",\"arrowhead\":0,\"arrowwidth\":1},\"geo\":{\"bgcolor\":\"white\",\"landcolor\":\"#E5ECF6\",\"subunitcolor\":\"white\",\"showland\":true,\"showlakes\":true,\"lakecolor\":\"white\"},\"title\":{\"x\":0.05},\"mapbox\":{\"style\":\"light\"}}},\"xaxis\":{\"anchor\":\"y\",\"domain\":[0.0,1.0],\"title\":{\"text\":\"Region\"}},\"yaxis\":{\"anchor\":\"x\",\"domain\":[0.0,1.0],\"title\":{\"text\":\"Number of Independent Schools\"}},\"legend\":{\"title\":{\"text\":\"Status\"},\"tracegroupgap\":0},\"title\":{\"text\":\"Number of Independent Schools by Region\"},\"barmode\":\"relative\",\"hoverlabel\":{\"font\":{\"size\":15},\"bgcolor\":\"white\"},\"plot_bgcolor\":\"rgba(0, 0, 0, 0)\",\"hovermode\":\"x\"},                        {\"responsive\": true}                    ).then(function(){\n",
              "                            \n",
              "var gd = document.getElementById('034d114f-563d-4552-865f-dba4676335cb');\n",
              "var x = new MutationObserver(function (mutations, observer) {{\n",
              "        var display = window.getComputedStyle(gd).display;\n",
              "        if (!display || display === 'none') {{\n",
              "            console.log([gd, 'removed!']);\n",
              "            Plotly.purge(gd);\n",
              "            observer.disconnect();\n",
              "        }}\n",
              "}});\n",
              "\n",
              "// Listen for the removal of the full notebook cells\n",
              "var notebookContainer = gd.closest('#notebook-container');\n",
              "if (notebookContainer) {{\n",
              "    x.observe(notebookContainer, {childList: true});\n",
              "}}\n",
              "\n",
              "// Listen for the clearing of the current output cell\n",
              "var outputEl = gd.closest('.output');\n",
              "if (outputEl) {{\n",
              "    x.observe(outputEl, {childList: true});\n",
              "}}\n",
              "\n",
              "                        })                };                            </script>        </div>\n",
              "</body>\n",
              "</html>"
            ]
          },
          "metadata": {}
        }
      ]
    },
    {
      "cell_type": "code",
      "source": [
        "# Calculate the percentage for each school type\n",
        "total_counts = pandas_df[['GOVT', 'GOVT AIDED', 'INDEPENDENT', 'JNV', 'KV']].sum()\n",
        "percentages = total_counts / total_counts.sum()\n",
        "\n",
        "# Create labels for the pie chart\n",
        "labels = ['GOVT', 'GOVT AIDED', 'INDEPENDENT', 'JNV', 'KV']\n",
        "label_values = [f'{label} ({percent:.1%})' for label, percent in zip(labels, percentages)]\n",
        "\n",
        "# Define custom colors for the pie chart\n",
        "colors = px.colors.qualitative.Set2\n",
        "\n",
        "# Create the pie chart trace\n",
        "trace = go.Pie(labels=label_values, values=total_counts, hoverinfo='label+percent', textinfo='none',\n",
        "               marker=dict(colors=colors))\n",
        "\n",
        "# Define the layout for the pie chart\n",
        "layout = go.Layout(\n",
        "    title='Percentage Distribution of School Types',\n",
        "    showlegend=True,\n",
        "    legend_title='School Types',\n",
        "    title_font=dict(size=18, color='black', family='Arial'),\n",
        "    uniformtext=dict(minsize=12, mode='hide')\n",
        ")\n",
        "\n",
        "# Create the figure and add the trace\n",
        "fig = go.Figure(data=[trace], layout=layout)\n",
        "\n",
        "# Show the pie chart\n",
        "fig.show()"
      ],
      "metadata": {
        "colab": {
          "base_uri": "https://localhost:8080/",
          "height": 542
        },
        "id": "0zvj4CYQqY0-",
        "outputId": "57b35a95-3691-40a9-8eb7-04838f4e3c19"
      },
      "execution_count": 53,
      "outputs": [
        {
          "output_type": "display_data",
          "data": {
            "text/html": [
              "<html>\n",
              "<head><meta charset=\"utf-8\" /></head>\n",
              "<body>\n",
              "    <div>            <script src=\"https://cdnjs.cloudflare.com/ajax/libs/mathjax/2.7.5/MathJax.js?config=TeX-AMS-MML_SVG\"></script><script type=\"text/javascript\">if (window.MathJax && window.MathJax.Hub && window.MathJax.Hub.Config) {window.MathJax.Hub.Config({SVG: {font: \"STIX-Web\"}});}</script>                <script type=\"text/javascript\">window.PlotlyConfig = {MathJaxConfig: 'local'};</script>\n",
              "        <script src=\"https://cdn.plot.ly/plotly-2.18.2.min.js\"></script>                <div id=\"efe47f0b-da83-45b4-ad1c-e609b399aaa1\" class=\"plotly-graph-div\" style=\"height:525px; width:100%;\"></div>            <script type=\"text/javascript\">                                    window.PLOTLYENV=window.PLOTLYENV || {};                                    if (document.getElementById(\"efe47f0b-da83-45b4-ad1c-e609b399aaa1\")) {                    Plotly.newPlot(                        \"efe47f0b-da83-45b4-ad1c-e609b399aaa1\",                        [{\"hoverinfo\":\"label+percent\",\"labels\":[\"GOVT (13.5%)\",\"GOVT AIDED (0.9%)\",\"INDEPENDENT (78.0%)\",\"JNV (2.2%)\",\"KV (5.5%)\"],\"marker\":{\"colors\":[\"rgb(102,194,165)\",\"rgb(252,141,98)\",\"rgb(141,160,203)\",\"rgb(231,138,195)\",\"rgb(166,216,84)\",\"rgb(255,217,47)\",\"rgb(229,196,148)\",\"rgb(179,179,179)\"]},\"textinfo\":\"none\",\"values\":[831198,53610,4814569,136655,339099],\"type\":\"pie\"}],                        {\"legend\":{\"title\":{\"text\":\"School Types\"}},\"showlegend\":true,\"title\":{\"font\":{\"color\":\"black\",\"family\":\"Arial\",\"size\":18},\"text\":\"Percentage Distribution of School Types\"},\"uniformtext\":{\"minsize\":12,\"mode\":\"hide\"},\"template\":{\"data\":{\"histogram2dcontour\":[{\"type\":\"histogram2dcontour\",\"colorbar\":{\"outlinewidth\":0,\"ticks\":\"\"},\"colorscale\":[[0.0,\"#0d0887\"],[0.1111111111111111,\"#46039f\"],[0.2222222222222222,\"#7201a8\"],[0.3333333333333333,\"#9c179e\"],[0.4444444444444444,\"#bd3786\"],[0.5555555555555556,\"#d8576b\"],[0.6666666666666666,\"#ed7953\"],[0.7777777777777778,\"#fb9f3a\"],[0.8888888888888888,\"#fdca26\"],[1.0,\"#f0f921\"]]}],\"choropleth\":[{\"type\":\"choropleth\",\"colorbar\":{\"outlinewidth\":0,\"ticks\":\"\"}}],\"histogram2d\":[{\"type\":\"histogram2d\",\"colorbar\":{\"outlinewidth\":0,\"ticks\":\"\"},\"colorscale\":[[0.0,\"#0d0887\"],[0.1111111111111111,\"#46039f\"],[0.2222222222222222,\"#7201a8\"],[0.3333333333333333,\"#9c179e\"],[0.4444444444444444,\"#bd3786\"],[0.5555555555555556,\"#d8576b\"],[0.6666666666666666,\"#ed7953\"],[0.7777777777777778,\"#fb9f3a\"],[0.8888888888888888,\"#fdca26\"],[1.0,\"#f0f921\"]]}],\"heatmap\":[{\"type\":\"heatmap\",\"colorbar\":{\"outlinewidth\":0,\"ticks\":\"\"},\"colorscale\":[[0.0,\"#0d0887\"],[0.1111111111111111,\"#46039f\"],[0.2222222222222222,\"#7201a8\"],[0.3333333333333333,\"#9c179e\"],[0.4444444444444444,\"#bd3786\"],[0.5555555555555556,\"#d8576b\"],[0.6666666666666666,\"#ed7953\"],[0.7777777777777778,\"#fb9f3a\"],[0.8888888888888888,\"#fdca26\"],[1.0,\"#f0f921\"]]}],\"heatmapgl\":[{\"type\":\"heatmapgl\",\"colorbar\":{\"outlinewidth\":0,\"ticks\":\"\"},\"colorscale\":[[0.0,\"#0d0887\"],[0.1111111111111111,\"#46039f\"],[0.2222222222222222,\"#7201a8\"],[0.3333333333333333,\"#9c179e\"],[0.4444444444444444,\"#bd3786\"],[0.5555555555555556,\"#d8576b\"],[0.6666666666666666,\"#ed7953\"],[0.7777777777777778,\"#fb9f3a\"],[0.8888888888888888,\"#fdca26\"],[1.0,\"#f0f921\"]]}],\"contourcarpet\":[{\"type\":\"contourcarpet\",\"colorbar\":{\"outlinewidth\":0,\"ticks\":\"\"}}],\"contour\":[{\"type\":\"contour\",\"colorbar\":{\"outlinewidth\":0,\"ticks\":\"\"},\"colorscale\":[[0.0,\"#0d0887\"],[0.1111111111111111,\"#46039f\"],[0.2222222222222222,\"#7201a8\"],[0.3333333333333333,\"#9c179e\"],[0.4444444444444444,\"#bd3786\"],[0.5555555555555556,\"#d8576b\"],[0.6666666666666666,\"#ed7953\"],[0.7777777777777778,\"#fb9f3a\"],[0.8888888888888888,\"#fdca26\"],[1.0,\"#f0f921\"]]}],\"surface\":[{\"type\":\"surface\",\"colorbar\":{\"outlinewidth\":0,\"ticks\":\"\"},\"colorscale\":[[0.0,\"#0d0887\"],[0.1111111111111111,\"#46039f\"],[0.2222222222222222,\"#7201a8\"],[0.3333333333333333,\"#9c179e\"],[0.4444444444444444,\"#bd3786\"],[0.5555555555555556,\"#d8576b\"],[0.6666666666666666,\"#ed7953\"],[0.7777777777777778,\"#fb9f3a\"],[0.8888888888888888,\"#fdca26\"],[1.0,\"#f0f921\"]]}],\"mesh3d\":[{\"type\":\"mesh3d\",\"colorbar\":{\"outlinewidth\":0,\"ticks\":\"\"}}],\"scatter\":[{\"fillpattern\":{\"fillmode\":\"overlay\",\"size\":10,\"solidity\":0.2},\"type\":\"scatter\"}],\"parcoords\":[{\"type\":\"parcoords\",\"line\":{\"colorbar\":{\"outlinewidth\":0,\"ticks\":\"\"}}}],\"scatterpolargl\":[{\"type\":\"scatterpolargl\",\"marker\":{\"colorbar\":{\"outlinewidth\":0,\"ticks\":\"\"}}}],\"bar\":[{\"error_x\":{\"color\":\"#2a3f5f\"},\"error_y\":{\"color\":\"#2a3f5f\"},\"marker\":{\"line\":{\"color\":\"#E5ECF6\",\"width\":0.5},\"pattern\":{\"fillmode\":\"overlay\",\"size\":10,\"solidity\":0.2}},\"type\":\"bar\"}],\"scattergeo\":[{\"type\":\"scattergeo\",\"marker\":{\"colorbar\":{\"outlinewidth\":0,\"ticks\":\"\"}}}],\"scatterpolar\":[{\"type\":\"scatterpolar\",\"marker\":{\"colorbar\":{\"outlinewidth\":0,\"ticks\":\"\"}}}],\"histogram\":[{\"marker\":{\"pattern\":{\"fillmode\":\"overlay\",\"size\":10,\"solidity\":0.2}},\"type\":\"histogram\"}],\"scattergl\":[{\"type\":\"scattergl\",\"marker\":{\"colorbar\":{\"outlinewidth\":0,\"ticks\":\"\"}}}],\"scatter3d\":[{\"type\":\"scatter3d\",\"line\":{\"colorbar\":{\"outlinewidth\":0,\"ticks\":\"\"}},\"marker\":{\"colorbar\":{\"outlinewidth\":0,\"ticks\":\"\"}}}],\"scattermapbox\":[{\"type\":\"scattermapbox\",\"marker\":{\"colorbar\":{\"outlinewidth\":0,\"ticks\":\"\"}}}],\"scatterternary\":[{\"type\":\"scatterternary\",\"marker\":{\"colorbar\":{\"outlinewidth\":0,\"ticks\":\"\"}}}],\"scattercarpet\":[{\"type\":\"scattercarpet\",\"marker\":{\"colorbar\":{\"outlinewidth\":0,\"ticks\":\"\"}}}],\"carpet\":[{\"aaxis\":{\"endlinecolor\":\"#2a3f5f\",\"gridcolor\":\"white\",\"linecolor\":\"white\",\"minorgridcolor\":\"white\",\"startlinecolor\":\"#2a3f5f\"},\"baxis\":{\"endlinecolor\":\"#2a3f5f\",\"gridcolor\":\"white\",\"linecolor\":\"white\",\"minorgridcolor\":\"white\",\"startlinecolor\":\"#2a3f5f\"},\"type\":\"carpet\"}],\"table\":[{\"cells\":{\"fill\":{\"color\":\"#EBF0F8\"},\"line\":{\"color\":\"white\"}},\"header\":{\"fill\":{\"color\":\"#C8D4E3\"},\"line\":{\"color\":\"white\"}},\"type\":\"table\"}],\"barpolar\":[{\"marker\":{\"line\":{\"color\":\"#E5ECF6\",\"width\":0.5},\"pattern\":{\"fillmode\":\"overlay\",\"size\":10,\"solidity\":0.2}},\"type\":\"barpolar\"}],\"pie\":[{\"automargin\":true,\"type\":\"pie\"}]},\"layout\":{\"autotypenumbers\":\"strict\",\"colorway\":[\"#636efa\",\"#EF553B\",\"#00cc96\",\"#ab63fa\",\"#FFA15A\",\"#19d3f3\",\"#FF6692\",\"#B6E880\",\"#FF97FF\",\"#FECB52\"],\"font\":{\"color\":\"#2a3f5f\"},\"hovermode\":\"closest\",\"hoverlabel\":{\"align\":\"left\"},\"paper_bgcolor\":\"white\",\"plot_bgcolor\":\"#E5ECF6\",\"polar\":{\"bgcolor\":\"#E5ECF6\",\"angularaxis\":{\"gridcolor\":\"white\",\"linecolor\":\"white\",\"ticks\":\"\"},\"radialaxis\":{\"gridcolor\":\"white\",\"linecolor\":\"white\",\"ticks\":\"\"}},\"ternary\":{\"bgcolor\":\"#E5ECF6\",\"aaxis\":{\"gridcolor\":\"white\",\"linecolor\":\"white\",\"ticks\":\"\"},\"baxis\":{\"gridcolor\":\"white\",\"linecolor\":\"white\",\"ticks\":\"\"},\"caxis\":{\"gridcolor\":\"white\",\"linecolor\":\"white\",\"ticks\":\"\"}},\"coloraxis\":{\"colorbar\":{\"outlinewidth\":0,\"ticks\":\"\"}},\"colorscale\":{\"sequential\":[[0.0,\"#0d0887\"],[0.1111111111111111,\"#46039f\"],[0.2222222222222222,\"#7201a8\"],[0.3333333333333333,\"#9c179e\"],[0.4444444444444444,\"#bd3786\"],[0.5555555555555556,\"#d8576b\"],[0.6666666666666666,\"#ed7953\"],[0.7777777777777778,\"#fb9f3a\"],[0.8888888888888888,\"#fdca26\"],[1.0,\"#f0f921\"]],\"sequentialminus\":[[0.0,\"#0d0887\"],[0.1111111111111111,\"#46039f\"],[0.2222222222222222,\"#7201a8\"],[0.3333333333333333,\"#9c179e\"],[0.4444444444444444,\"#bd3786\"],[0.5555555555555556,\"#d8576b\"],[0.6666666666666666,\"#ed7953\"],[0.7777777777777778,\"#fb9f3a\"],[0.8888888888888888,\"#fdca26\"],[1.0,\"#f0f921\"]],\"diverging\":[[0,\"#8e0152\"],[0.1,\"#c51b7d\"],[0.2,\"#de77ae\"],[0.3,\"#f1b6da\"],[0.4,\"#fde0ef\"],[0.5,\"#f7f7f7\"],[0.6,\"#e6f5d0\"],[0.7,\"#b8e186\"],[0.8,\"#7fbc41\"],[0.9,\"#4d9221\"],[1,\"#276419\"]]},\"xaxis\":{\"gridcolor\":\"white\",\"linecolor\":\"white\",\"ticks\":\"\",\"title\":{\"standoff\":15},\"zerolinecolor\":\"white\",\"automargin\":true,\"zerolinewidth\":2},\"yaxis\":{\"gridcolor\":\"white\",\"linecolor\":\"white\",\"ticks\":\"\",\"title\":{\"standoff\":15},\"zerolinecolor\":\"white\",\"automargin\":true,\"zerolinewidth\":2},\"scene\":{\"xaxis\":{\"backgroundcolor\":\"#E5ECF6\",\"gridcolor\":\"white\",\"linecolor\":\"white\",\"showbackground\":true,\"ticks\":\"\",\"zerolinecolor\":\"white\",\"gridwidth\":2},\"yaxis\":{\"backgroundcolor\":\"#E5ECF6\",\"gridcolor\":\"white\",\"linecolor\":\"white\",\"showbackground\":true,\"ticks\":\"\",\"zerolinecolor\":\"white\",\"gridwidth\":2},\"zaxis\":{\"backgroundcolor\":\"#E5ECF6\",\"gridcolor\":\"white\",\"linecolor\":\"white\",\"showbackground\":true,\"ticks\":\"\",\"zerolinecolor\":\"white\",\"gridwidth\":2}},\"shapedefaults\":{\"line\":{\"color\":\"#2a3f5f\"}},\"annotationdefaults\":{\"arrowcolor\":\"#2a3f5f\",\"arrowhead\":0,\"arrowwidth\":1},\"geo\":{\"bgcolor\":\"white\",\"landcolor\":\"#E5ECF6\",\"subunitcolor\":\"white\",\"showland\":true,\"showlakes\":true,\"lakecolor\":\"white\"},\"title\":{\"x\":0.05},\"mapbox\":{\"style\":\"light\"}}}},                        {\"responsive\": true}                    ).then(function(){\n",
              "                            \n",
              "var gd = document.getElementById('efe47f0b-da83-45b4-ad1c-e609b399aaa1');\n",
              "var x = new MutationObserver(function (mutations, observer) {{\n",
              "        var display = window.getComputedStyle(gd).display;\n",
              "        if (!display || display === 'none') {{\n",
              "            console.log([gd, 'removed!']);\n",
              "            Plotly.purge(gd);\n",
              "            observer.disconnect();\n",
              "        }}\n",
              "}});\n",
              "\n",
              "// Listen for the removal of the full notebook cells\n",
              "var notebookContainer = gd.closest('#notebook-container');\n",
              "if (notebookContainer) {{\n",
              "    x.observe(notebookContainer, {childList: true});\n",
              "}}\n",
              "\n",
              "// Listen for the clearing of the current output cell\n",
              "var outputEl = gd.closest('.output');\n",
              "if (outputEl) {{\n",
              "    x.observe(outputEl, {childList: true});\n",
              "}}\n",
              "\n",
              "                        })                };                            </script>        </div>\n",
              "</body>\n",
              "</html>"
            ]
          },
          "metadata": {}
        }
      ]
    },
    {
      "cell_type": "code",
      "source": [
        "# Add an index column to the dataframe\n",
        "pandas_df['Index'] = np.arange(len(pandas_df))\n",
        "\n",
        "# Sort the dataframe by Region and GOVT counts\n",
        "pandas_df_sorted = pandas_df.sort_values(['Region', 'GOVT'])\n",
        "\n",
        "# Create a line plot to track the change in school counts over time\n",
        "line_fig = go.Figure()\n",
        "line_fig.add_trace(go.Scatter(x=pandas_df_sorted['Index'], y=pandas_df_sorted['GOVT'], mode='lines', name='GOVT'))\n",
        "line_fig.update_layout(title='Change in GOVT School Counts over Time by Region',\n",
        "                      xaxis=dict(title='Index'), yaxis=dict(title='Number of Schools'))\n",
        "\n",
        "# Create the box plot\n",
        "box_fig = px.box(pandas_df, x='Region', y='GOVT', color='Status',\n",
        "                 title='Distribution of GOVT School Counts by Region and Status',\n",
        "                 labels={'value': 'Number of Schools', 'Region': 'Region', 'Status': 'Status'})\n",
        "\n",
        "# Create subplots\n",
        "fig = sp.make_subplots(rows=2, cols=1, shared_xaxes=True, subplot_titles=(\"Change in GOVT School Counts over Time by Region\",\n",
        "                                                                         \"Distribution of GOVT School Counts by Region and Status\"))\n",
        "fig.append_trace(line_fig['data'][0], row=1, col=1)\n",
        "fig.append_trace(box_fig['data'][0], row=2, col=1)\n",
        "fig.update_layout(height=800)\n",
        "\n",
        "# Show the combined plot\n",
        "fig.show()\n"
      ],
      "metadata": {
        "colab": {
          "base_uri": "https://localhost:8080/",
          "height": 817
        },
        "id": "AjBozvqiy58r",
        "outputId": "c2b6b00d-6dc9-41b1-df6c-c7359db65bb1"
      },
      "execution_count": 56,
      "outputs": [
        {
          "output_type": "display_data",
          "data": {
            "text/html": [
              "<html>\n",
              "<head><meta charset=\"utf-8\" /></head>\n",
              "<body>\n",
              "    <div>            <script src=\"https://cdnjs.cloudflare.com/ajax/libs/mathjax/2.7.5/MathJax.js?config=TeX-AMS-MML_SVG\"></script><script type=\"text/javascript\">if (window.MathJax && window.MathJax.Hub && window.MathJax.Hub.Config) {window.MathJax.Hub.Config({SVG: {font: \"STIX-Web\"}});}</script>                <script type=\"text/javascript\">window.PlotlyConfig = {MathJaxConfig: 'local'};</script>\n",
              "        <script src=\"https://cdn.plot.ly/plotly-2.18.2.min.js\"></script>                <div id=\"25939055-230c-4c94-8450-a13a66196023\" class=\"plotly-graph-div\" style=\"height:800px; width:100%;\"></div>            <script type=\"text/javascript\">                                    window.PLOTLYENV=window.PLOTLYENV || {};                                    if (document.getElementById(\"25939055-230c-4c94-8450-a13a66196023\")) {                    Plotly.newPlot(                        \"25939055-230c-4c94-8450-a13a66196023\",                        [{\"mode\":\"lines\",\"name\":\"GOVT\",\"x\":[2,1,0,3,4,5,8,7,6,11,10,9,14,13,12,17,16,15,20,19,18,23,22,21,26,25,24,29,28,27,32,31,30,35,34,33,38,37,36,41,40,39,44,43,42,47,45,46],\"y\":[8154,8509,8537,151,151,151,4837,5681,5802,15828,17036,17252,11280,14868,14941,4023,4867,4935,2058,2111,2131,98859,123021,124319,71817,86757,87771,15187,25309,25746,350,458,466,494,515,516,166,202,203,2203,2789,2955,2072,2130,2135,455,500,500],\"type\":\"scatter\",\"xaxis\":\"x\",\"yaxis\":\"y\"},{\"alignmentgroup\":\"True\",\"hovertemplate\":\"Status=Regd.<br>Region=%{x}<br>GOVT=%{y}<extra></extra>\",\"legendgroup\":\"Regd.\",\"marker\":{\"color\":\"#636efa\"},\"name\":\"Regd.\",\"notched\":false,\"offsetgroup\":\"Regd.\",\"orientation\":\"v\",\"showlegend\":true,\"x\":[\"Ajmer\",\"Bengaluru\",\"Bhopal\",\"Bhubaneswar\",\"Chandigarh\",\"Chen0i\",\"Dehradun\",\"Delhi East\",\"Delhi West\",\"Guwahati\",\"Noida\",\"Panchkula\",\"Pat0\",\"Prayagraj\",\"Pune\",\"Trivandrum\"],\"x0\":\" \",\"xaxis\":\"x2\",\"y\":[8537,151,5802,17252,14941,4935,2131,124319,87771,25746,466,516,203,2955,2135,500],\"y0\":\" \",\"yaxis\":\"y2\",\"type\":\"box\"}],                        {\"template\":{\"data\":{\"histogram2dcontour\":[{\"type\":\"histogram2dcontour\",\"colorbar\":{\"outlinewidth\":0,\"ticks\":\"\"},\"colorscale\":[[0.0,\"#0d0887\"],[0.1111111111111111,\"#46039f\"],[0.2222222222222222,\"#7201a8\"],[0.3333333333333333,\"#9c179e\"],[0.4444444444444444,\"#bd3786\"],[0.5555555555555556,\"#d8576b\"],[0.6666666666666666,\"#ed7953\"],[0.7777777777777778,\"#fb9f3a\"],[0.8888888888888888,\"#fdca26\"],[1.0,\"#f0f921\"]]}],\"choropleth\":[{\"type\":\"choropleth\",\"colorbar\":{\"outlinewidth\":0,\"ticks\":\"\"}}],\"histogram2d\":[{\"type\":\"histogram2d\",\"colorbar\":{\"outlinewidth\":0,\"ticks\":\"\"},\"colorscale\":[[0.0,\"#0d0887\"],[0.1111111111111111,\"#46039f\"],[0.2222222222222222,\"#7201a8\"],[0.3333333333333333,\"#9c179e\"],[0.4444444444444444,\"#bd3786\"],[0.5555555555555556,\"#d8576b\"],[0.6666666666666666,\"#ed7953\"],[0.7777777777777778,\"#fb9f3a\"],[0.8888888888888888,\"#fdca26\"],[1.0,\"#f0f921\"]]}],\"heatmap\":[{\"type\":\"heatmap\",\"colorbar\":{\"outlinewidth\":0,\"ticks\":\"\"},\"colorscale\":[[0.0,\"#0d0887\"],[0.1111111111111111,\"#46039f\"],[0.2222222222222222,\"#7201a8\"],[0.3333333333333333,\"#9c179e\"],[0.4444444444444444,\"#bd3786\"],[0.5555555555555556,\"#d8576b\"],[0.6666666666666666,\"#ed7953\"],[0.7777777777777778,\"#fb9f3a\"],[0.8888888888888888,\"#fdca26\"],[1.0,\"#f0f921\"]]}],\"heatmapgl\":[{\"type\":\"heatmapgl\",\"colorbar\":{\"outlinewidth\":0,\"ticks\":\"\"},\"colorscale\":[[0.0,\"#0d0887\"],[0.1111111111111111,\"#46039f\"],[0.2222222222222222,\"#7201a8\"],[0.3333333333333333,\"#9c179e\"],[0.4444444444444444,\"#bd3786\"],[0.5555555555555556,\"#d8576b\"],[0.6666666666666666,\"#ed7953\"],[0.7777777777777778,\"#fb9f3a\"],[0.8888888888888888,\"#fdca26\"],[1.0,\"#f0f921\"]]}],\"contourcarpet\":[{\"type\":\"contourcarpet\",\"colorbar\":{\"outlinewidth\":0,\"ticks\":\"\"}}],\"contour\":[{\"type\":\"contour\",\"colorbar\":{\"outlinewidth\":0,\"ticks\":\"\"},\"colorscale\":[[0.0,\"#0d0887\"],[0.1111111111111111,\"#46039f\"],[0.2222222222222222,\"#7201a8\"],[0.3333333333333333,\"#9c179e\"],[0.4444444444444444,\"#bd3786\"],[0.5555555555555556,\"#d8576b\"],[0.6666666666666666,\"#ed7953\"],[0.7777777777777778,\"#fb9f3a\"],[0.8888888888888888,\"#fdca26\"],[1.0,\"#f0f921\"]]}],\"surface\":[{\"type\":\"surface\",\"colorbar\":{\"outlinewidth\":0,\"ticks\":\"\"},\"colorscale\":[[0.0,\"#0d0887\"],[0.1111111111111111,\"#46039f\"],[0.2222222222222222,\"#7201a8\"],[0.3333333333333333,\"#9c179e\"],[0.4444444444444444,\"#bd3786\"],[0.5555555555555556,\"#d8576b\"],[0.6666666666666666,\"#ed7953\"],[0.7777777777777778,\"#fb9f3a\"],[0.8888888888888888,\"#fdca26\"],[1.0,\"#f0f921\"]]}],\"mesh3d\":[{\"type\":\"mesh3d\",\"colorbar\":{\"outlinewidth\":0,\"ticks\":\"\"}}],\"scatter\":[{\"fillpattern\":{\"fillmode\":\"overlay\",\"size\":10,\"solidity\":0.2},\"type\":\"scatter\"}],\"parcoords\":[{\"type\":\"parcoords\",\"line\":{\"colorbar\":{\"outlinewidth\":0,\"ticks\":\"\"}}}],\"scatterpolargl\":[{\"type\":\"scatterpolargl\",\"marker\":{\"colorbar\":{\"outlinewidth\":0,\"ticks\":\"\"}}}],\"bar\":[{\"error_x\":{\"color\":\"#2a3f5f\"},\"error_y\":{\"color\":\"#2a3f5f\"},\"marker\":{\"line\":{\"color\":\"#E5ECF6\",\"width\":0.5},\"pattern\":{\"fillmode\":\"overlay\",\"size\":10,\"solidity\":0.2}},\"type\":\"bar\"}],\"scattergeo\":[{\"type\":\"scattergeo\",\"marker\":{\"colorbar\":{\"outlinewidth\":0,\"ticks\":\"\"}}}],\"scatterpolar\":[{\"type\":\"scatterpolar\",\"marker\":{\"colorbar\":{\"outlinewidth\":0,\"ticks\":\"\"}}}],\"histogram\":[{\"marker\":{\"pattern\":{\"fillmode\":\"overlay\",\"size\":10,\"solidity\":0.2}},\"type\":\"histogram\"}],\"scattergl\":[{\"type\":\"scattergl\",\"marker\":{\"colorbar\":{\"outlinewidth\":0,\"ticks\":\"\"}}}],\"scatter3d\":[{\"type\":\"scatter3d\",\"line\":{\"colorbar\":{\"outlinewidth\":0,\"ticks\":\"\"}},\"marker\":{\"colorbar\":{\"outlinewidth\":0,\"ticks\":\"\"}}}],\"scattermapbox\":[{\"type\":\"scattermapbox\",\"marker\":{\"colorbar\":{\"outlinewidth\":0,\"ticks\":\"\"}}}],\"scatterternary\":[{\"type\":\"scatterternary\",\"marker\":{\"colorbar\":{\"outlinewidth\":0,\"ticks\":\"\"}}}],\"scattercarpet\":[{\"type\":\"scattercarpet\",\"marker\":{\"colorbar\":{\"outlinewidth\":0,\"ticks\":\"\"}}}],\"carpet\":[{\"aaxis\":{\"endlinecolor\":\"#2a3f5f\",\"gridcolor\":\"white\",\"linecolor\":\"white\",\"minorgridcolor\":\"white\",\"startlinecolor\":\"#2a3f5f\"},\"baxis\":{\"endlinecolor\":\"#2a3f5f\",\"gridcolor\":\"white\",\"linecolor\":\"white\",\"minorgridcolor\":\"white\",\"startlinecolor\":\"#2a3f5f\"},\"type\":\"carpet\"}],\"table\":[{\"cells\":{\"fill\":{\"color\":\"#EBF0F8\"},\"line\":{\"color\":\"white\"}},\"header\":{\"fill\":{\"color\":\"#C8D4E3\"},\"line\":{\"color\":\"white\"}},\"type\":\"table\"}],\"barpolar\":[{\"marker\":{\"line\":{\"color\":\"#E5ECF6\",\"width\":0.5},\"pattern\":{\"fillmode\":\"overlay\",\"size\":10,\"solidity\":0.2}},\"type\":\"barpolar\"}],\"pie\":[{\"automargin\":true,\"type\":\"pie\"}]},\"layout\":{\"autotypenumbers\":\"strict\",\"colorway\":[\"#636efa\",\"#EF553B\",\"#00cc96\",\"#ab63fa\",\"#FFA15A\",\"#19d3f3\",\"#FF6692\",\"#B6E880\",\"#FF97FF\",\"#FECB52\"],\"font\":{\"color\":\"#2a3f5f\"},\"hovermode\":\"closest\",\"hoverlabel\":{\"align\":\"left\"},\"paper_bgcolor\":\"white\",\"plot_bgcolor\":\"#E5ECF6\",\"polar\":{\"bgcolor\":\"#E5ECF6\",\"angularaxis\":{\"gridcolor\":\"white\",\"linecolor\":\"white\",\"ticks\":\"\"},\"radialaxis\":{\"gridcolor\":\"white\",\"linecolor\":\"white\",\"ticks\":\"\"}},\"ternary\":{\"bgcolor\":\"#E5ECF6\",\"aaxis\":{\"gridcolor\":\"white\",\"linecolor\":\"white\",\"ticks\":\"\"},\"baxis\":{\"gridcolor\":\"white\",\"linecolor\":\"white\",\"ticks\":\"\"},\"caxis\":{\"gridcolor\":\"white\",\"linecolor\":\"white\",\"ticks\":\"\"}},\"coloraxis\":{\"colorbar\":{\"outlinewidth\":0,\"ticks\":\"\"}},\"colorscale\":{\"sequential\":[[0.0,\"#0d0887\"],[0.1111111111111111,\"#46039f\"],[0.2222222222222222,\"#7201a8\"],[0.3333333333333333,\"#9c179e\"],[0.4444444444444444,\"#bd3786\"],[0.5555555555555556,\"#d8576b\"],[0.6666666666666666,\"#ed7953\"],[0.7777777777777778,\"#fb9f3a\"],[0.8888888888888888,\"#fdca26\"],[1.0,\"#f0f921\"]],\"sequentialminus\":[[0.0,\"#0d0887\"],[0.1111111111111111,\"#46039f\"],[0.2222222222222222,\"#7201a8\"],[0.3333333333333333,\"#9c179e\"],[0.4444444444444444,\"#bd3786\"],[0.5555555555555556,\"#d8576b\"],[0.6666666666666666,\"#ed7953\"],[0.7777777777777778,\"#fb9f3a\"],[0.8888888888888888,\"#fdca26\"],[1.0,\"#f0f921\"]],\"diverging\":[[0,\"#8e0152\"],[0.1,\"#c51b7d\"],[0.2,\"#de77ae\"],[0.3,\"#f1b6da\"],[0.4,\"#fde0ef\"],[0.5,\"#f7f7f7\"],[0.6,\"#e6f5d0\"],[0.7,\"#b8e186\"],[0.8,\"#7fbc41\"],[0.9,\"#4d9221\"],[1,\"#276419\"]]},\"xaxis\":{\"gridcolor\":\"white\",\"linecolor\":\"white\",\"ticks\":\"\",\"title\":{\"standoff\":15},\"zerolinecolor\":\"white\",\"automargin\":true,\"zerolinewidth\":2},\"yaxis\":{\"gridcolor\":\"white\",\"linecolor\":\"white\",\"ticks\":\"\",\"title\":{\"standoff\":15},\"zerolinecolor\":\"white\",\"automargin\":true,\"zerolinewidth\":2},\"scene\":{\"xaxis\":{\"backgroundcolor\":\"#E5ECF6\",\"gridcolor\":\"white\",\"linecolor\":\"white\",\"showbackground\":true,\"ticks\":\"\",\"zerolinecolor\":\"white\",\"gridwidth\":2},\"yaxis\":{\"backgroundcolor\":\"#E5ECF6\",\"gridcolor\":\"white\",\"linecolor\":\"white\",\"showbackground\":true,\"ticks\":\"\",\"zerolinecolor\":\"white\",\"gridwidth\":2},\"zaxis\":{\"backgroundcolor\":\"#E5ECF6\",\"gridcolor\":\"white\",\"linecolor\":\"white\",\"showbackground\":true,\"ticks\":\"\",\"zerolinecolor\":\"white\",\"gridwidth\":2}},\"shapedefaults\":{\"line\":{\"color\":\"#2a3f5f\"}},\"annotationdefaults\":{\"arrowcolor\":\"#2a3f5f\",\"arrowhead\":0,\"arrowwidth\":1},\"geo\":{\"bgcolor\":\"white\",\"landcolor\":\"#E5ECF6\",\"subunitcolor\":\"white\",\"showland\":true,\"showlakes\":true,\"lakecolor\":\"white\"},\"title\":{\"x\":0.05},\"mapbox\":{\"style\":\"light\"}}},\"xaxis\":{\"anchor\":\"y\",\"domain\":[0.0,1.0],\"matches\":\"x2\",\"showticklabels\":false},\"yaxis\":{\"anchor\":\"x\",\"domain\":[0.625,1.0]},\"xaxis2\":{\"anchor\":\"y2\",\"domain\":[0.0,1.0]},\"yaxis2\":{\"anchor\":\"x2\",\"domain\":[0.0,0.375]},\"annotations\":[{\"font\":{\"size\":16},\"showarrow\":false,\"text\":\"Change in GOVT School Counts over Time by Region\",\"x\":0.5,\"xanchor\":\"center\",\"xref\":\"paper\",\"y\":1.0,\"yanchor\":\"bottom\",\"yref\":\"paper\"},{\"font\":{\"size\":16},\"showarrow\":false,\"text\":\"Distribution of GOVT School Counts by Region and Status\",\"x\":0.5,\"xanchor\":\"center\",\"xref\":\"paper\",\"y\":0.375,\"yanchor\":\"bottom\",\"yref\":\"paper\"}],\"height\":800},                        {\"responsive\": true}                    ).then(function(){\n",
              "                            \n",
              "var gd = document.getElementById('25939055-230c-4c94-8450-a13a66196023');\n",
              "var x = new MutationObserver(function (mutations, observer) {{\n",
              "        var display = window.getComputedStyle(gd).display;\n",
              "        if (!display || display === 'none') {{\n",
              "            console.log([gd, 'removed!']);\n",
              "            Plotly.purge(gd);\n",
              "            observer.disconnect();\n",
              "        }}\n",
              "}});\n",
              "\n",
              "// Listen for the removal of the full notebook cells\n",
              "var notebookContainer = gd.closest('#notebook-container');\n",
              "if (notebookContainer) {{\n",
              "    x.observe(notebookContainer, {childList: true});\n",
              "}}\n",
              "\n",
              "// Listen for the clearing of the current output cell\n",
              "var outputEl = gd.closest('.output');\n",
              "if (outputEl) {{\n",
              "    x.observe(outputEl, {childList: true});\n",
              "}}\n",
              "\n",
              "                        })                };                            </script>        </div>\n",
              "</body>\n",
              "</html>"
            ]
          },
          "metadata": {}
        }
      ]
    }
  ]
}